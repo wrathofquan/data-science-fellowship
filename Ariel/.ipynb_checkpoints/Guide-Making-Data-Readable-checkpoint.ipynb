{
 "cells": [
  {
   "cell_type": "markdown",
   "metadata": {},
   "source": [
    "# The Project: Plotting NYC Subway Location Data\n",
    "\n",
    "For a project I am working on I wanted to know the locations of all the subway entrances in NYC. After locating the right [data set](https://data.cityofnewyork.us/Transportation/Subway-Entrances/drex-xx56/data) from [NYC Open Data](https://opendata.cityofnewyork.us/) that contains latitude and longitude data on each subway I was disappointed to find that the Excel file looked like this:"
   ]
  },
  {
   "attachments": {},
   "cell_type": "markdown",
   "metadata": {},
   "source": [
    "![subway](images/subway_excel.jpeg)"
   ]
  },
  {
   "cell_type": "markdown",
   "metadata": {},
   "source": [
    "## The Challenge\n",
    "\n",
    "**The Data I Have:** “the_geom” column has the latitude and longitude data I want but each entry is a string containing the word “Point (_longitude_ _latitude_)”. \n",
    "\n",
    "**The Data I Want:** I want to make a heat map with a point for each subway location but in order to do that I need to change the data in the “the_geom” column so that I have separate integer values for the latitude and longitude for each subway location.\n"
   ]
  },
  {
   "cell_type": "markdown",
   "metadata": {},
   "source": [
    "## One Solution\n",
    "\n",
    "Here are some steps you can take to make your data readable. Depending on your particular data set and your goals you might not need all of the steps below.\n",
    "\n",
    "1. read your data file into a table\n",
    "2. store the data from the column you want to manipulate in an array\n",
    "3. manipulate the array by slicing each value in the array\n",
    "4. add the newly formatted data back to your data Table\n",
    "5. convert the table back into a data file like a .csv\n",
    "\n",
    "Below I will write code in Python to walk you through each of these steps."
   ]
  },
  {
   "cell_type": "markdown",
   "metadata": {},
   "source": [
    "## 1. Reading Your Data File Into a Table\n",
    "\n",
    "The datascience library allows you to read your data file directly into a table! You can import the entire data science library by writing `from datascience import *`\n",
    "\n",
    "Then you can create a table by writing `Table.read_table('filename')` \n",
    "\n",
    " > If the program has trouble reading in the file, you can try adding the \"encoding=\" parameter, which helps your program to understand how the data in your file is encoded. You can read more about encoding [here](https://docs.python.org/3/howto/unicode.html).\n",
    "> ex) `subways = Table.read_table('subway-entrances-nyc.csv', encoding='latin-1')`\n",
    "\n",
    "\n",
    "Now lets see what that table looks like! Type `table_name.show()` to display the whole data table or `table_name.show(10)` to display the first 10 lines of the table."
   ]
  },
  {
   "cell_type": "code",
   "execution_count": 34,
   "metadata": {},
   "outputs": [
    {
     "data": {
      "text/html": [
       "<table border=\"1\" class=\"dataframe\">\n",
       "    <thead>\n",
       "        <tr>\n",
       "            <th>OBJECTID</th> <th>URL</th> <th>NAME</th> <th>the_geom</th> <th>LINE</th>\n",
       "        </tr>\n",
       "    </thead>\n",
       "    <tbody>\n",
       "        <tr>\n",
       "            <td>1734    </td> <td>http://web.mta.info/nyct/service/</td> <td>Birchall Ave & Sagamore St at NW corner</td> <td>POINT (-73.86835600032798 40.84916900104506) </td> <td>5-Feb</td>\n",
       "        </tr>\n",
       "    </tbody>\n",
       "        <tr>\n",
       "            <td>1735    </td> <td>http://web.mta.info/nyct/service/</td> <td>Birchall Ave & Sagamore St at NE corner</td> <td>POINT (-73.86821300022677 40.84912800131844) </td> <td>5-Feb</td>\n",
       "        </tr>\n",
       "    </tbody>\n",
       "        <tr>\n",
       "            <td>1736    </td> <td>http://web.mta.info/nyct/service/</td> <td>Morris Park Ave & 180th St at NW corner</td> <td>POINT (-73.87349900050798 40.84122300105249) </td> <td>5-Feb</td>\n",
       "        </tr>\n",
       "    </tbody>\n",
       "        <tr>\n",
       "            <td>1737    </td> <td>http://web.mta.info/nyct/service/</td> <td>Morris Park Ave & 180th St at NW corner</td> <td>POINT (-73.8728919997833 40.84145300067447)  </td> <td>5-Feb</td>\n",
       "        </tr>\n",
       "    </tbody>\n",
       "        <tr>\n",
       "            <td>1738    </td> <td>http://web.mta.info/nyct/service/</td> <td>Boston Rd & 178th St at SW corner      </td> <td>POINT (-73.87962300013866 40.84081500075867) </td> <td>5-Feb</td>\n",
       "        </tr>\n",
       "    </tbody>\n",
       "        <tr>\n",
       "            <td>1739    </td> <td>http://web.mta.info/nyct/service/</td> <td>Boston Rd & E Tremont Ave at NW corner </td> <td>POINT (-73.88000500027815 40.840434000875874)</td> <td>5-Feb</td>\n",
       "        </tr>\n",
       "    </tbody>\n",
       "        <tr>\n",
       "            <td>1740    </td> <td>http://web.mta.info/nyct/service/</td> <td>Boston Rd & E Tremont Ave at NE corner </td> <td>POINT (-73.87983300021861 40.84035400111976) </td> <td>5-Feb</td>\n",
       "        </tr>\n",
       "    </tbody>\n",
       "        <tr>\n",
       "            <td>1741    </td> <td>http://web.mta.info/nyct/service/</td> <td>Boston Rd & 178th St at SE corner      </td> <td>POINT (-73.8795549998336 40.84063900116436)  </td> <td>5-Feb</td>\n",
       "        </tr>\n",
       "    </tbody>\n",
       "        <tr>\n",
       "            <td>1742    </td> <td>http://web.mta.info/nyct/service/</td> <td>Boston Rd & 178th St at NW corner      </td> <td>POINT (-73.87939700013239 40.84107800066419) </td> <td>5-Feb</td>\n",
       "        </tr>\n",
       "    </tbody>\n",
       "        <tr>\n",
       "            <td>1743    </td> <td>http://web.mta.info/nyct/service/</td> <td>Boston Rd & 174th St at SW corner      </td> <td>POINT (-73.88804799985908 40.83732500129732) </td> <td>5-Feb</td>\n",
       "        </tr>\n",
       "    </tbody>\n",
       "</table>\n",
       "<p>... (1918 rows omitted)</p>"
      ],
      "text/plain": [
       "<IPython.core.display.HTML object>"
      ]
     },
     "metadata": {},
     "output_type": "display_data"
    }
   ],
   "source": [
    "from datascience import * #import the data science module\n",
    "\n",
    "subways = Table.read_table('subway-entrances-nyc.csv') #read in your data table\n",
    "subways.show(10) #display the first 10 lines of the table."
   ]
  },
  {
   "cell_type": "markdown",
   "metadata": {},
   "source": [
    "## 2. Storing The Data From the Column You Want to Manipulate in an Array\n",
    "\n",
    "I want to modify the \"the_geom\" column so I stored the data in an [array](https://www.inferentialthinking.com/chapters/05/1/arrays.html) called `subway_locations`. You can store the data from a column of a table in an array by writing `table_name[column_name]` or `table_name[column_index]`.\n",
    "\n",
    "After assigning variables, I always like to print or display the variable just to quickly check that everything looks okay."
   ]
  },
  {
   "cell_type": "code",
   "execution_count": 35,
   "metadata": {},
   "outputs": [
    {
     "data": {
      "text/plain": [
       "'POINT (-73.86835600032798 40.84916900104506)'"
      ]
     },
     "execution_count": 35,
     "metadata": {},
     "output_type": "execute_result"
    }
   ],
   "source": [
    "subway_locations = subways['the_geom'] #table_name[column_name]\n",
    "subway_locations[0] #print first element of subway_locations to check what it contains"
   ]
  },
  {
   "cell_type": "markdown",
   "metadata": {},
   "source": [
    "**Important Note:** After checking the first value in my subway_locations array, I noticed that each element in the array follows the format: POINT (longitude latitude). Throughout this guide keep in mind that the first number in the subway_locations array represents a longitude and the second number a latitude."
   ]
  },
  {
   "cell_type": "markdown",
   "metadata": {},
   "source": [
    "## 3. Manipulating the Array by Slicing Each Value in the Array\n",
    "\n",
    "You can slice a string in python by using the following notation, `string[a:b]` where `a` is an integer representing the starting index and `b` represents one plus the ending index of the slice of the string you want to acquire.  You can read more about slicing strings [here](https://www.digitalocean.com/community/tutorials/how-to-index-and-slice-strings-in-python-3).\n",
    "\n",
    "> ex) if you have `phrase = 'Julia goes skiing'` and you want to capture the word \"goes\" you notice that \"goes\" starts at the 7th character of the phrase (at index 6) and ends at the 10th character of the phrase (at index 9). `goes = phrase[6:10]`\n",
    "\n",
    "Lets start by getting rid of \"POINT (\" and \")\" in each entry of the subway_locations array. The first 7 characters of each entry of the subway_locations array are identical and the last character of each entry is identical. Since we want to cut off the first 7 characters and last character of every single entry of the subway_locations array we can slice every entry from [7:-1].\n",
    "\n",
    "> [7:-1] works for every entry BUT [7:43] wouldn't work because not every entry is the same length\n",
    "\n",
    "> ex) 'POINT (-73.86835600032798 40.84916900104506)' and 'POINT (-73.22 40.88) both start with \"POINT (\" and end with \")\" but they arent the same lenght so [7:43] would throw an error on the second example.\n",
    "\n",
    "\n",
    "Using [list comprehension](http://www.pythonforbeginners.com/basics/list-comprehensions-in-python) I sliced every element in subway_locations and stored it in a new array called \n",
    "creating a new array called \"points\""
   ]
  },
  {
   "cell_type": "code",
   "execution_count": 36,
   "metadata": {},
   "outputs": [
    {
     "data": {
      "text/plain": [
       "'-73.86835600032798 40.84916900104506'"
      ]
     },
     "execution_count": 36,
     "metadata": {},
     "output_type": "execute_result"
    }
   ],
   "source": [
    "points = [location[7:-1] for location in subway_locations]\n",
    "points[0] #always a good idea to check that the elements of your array look as expected"
   ]
  },
  {
   "cell_type": "markdown",
   "metadata": {},
   "source": [
    "### Slicing the points array into latitude and longitude values"
   ]
  },
  {
   "cell_type": "markdown",
   "metadata": {},
   "source": [
    "Now I want to split the array entries into a seperate latitude and longitude integer value. Rather than counting specific decimal places (as they might not be the same for each entry) you can generalize the process by looking for patterns in your entries. I noticed that there is a space character “ “ separating each latitude and longitude value. I can use this space character to split up my entry because everything that comes before the index of the space character is a longitude and everything that comes after the index of the space is a latitude. I can search each line until i find a space character and then slice every entry into two values using the index of the space character.\n",
    "\n",
    "After slicing the entries into a latitude string and longitude string and then storing the values in two seperate arrays I can convert the two different strings of numbers into integers."
   ]
  },
  {
   "cell_type": "code",
   "execution_count": 37,
   "metadata": {
    "collapsed": true
   },
   "outputs": [],
   "source": [
    "#cycle through entries in the points array\n",
    "#then cycle through each index position in an entry in points\n",
    "#if the index is a space then append the value to an array called cut_off_val\n",
    "cut_off_val = []\n",
    "for values in points:\n",
    "    for count in range(len(values)): \n",
    "        if values[count] == ' ':\n",
    "            cut_off_val.append(count) \n",
    "            \n",
    "#splitting up the values in the points array into a longitude and latitude value using string slicing\n",
    "#storing sliced string in an array using list comprehension\n",
    "#convert every entry from a string into an integer\n",
    "longitude = [float(points[count][:cut_off_val[count]]) for count in range(len(points))]\n",
    "latitude = [float(points[count][cut_off_val[count]+1:]) for count in range(len(points))]"
   ]
  },
  {
   "cell_type": "markdown",
   "metadata": {},
   "source": [
    "### Checking My Work\n",
    "\n",
    "I printed the first value in the longitude and latitude array to check that my program stored the correct numbers. I then printed the literal type to make sure that my values are now floats instead of strings."
   ]
  },
  {
   "cell_type": "code",
   "execution_count": 38,
   "metadata": {},
   "outputs": [
    {
     "name": "stdout",
     "output_type": "stream",
     "text": [
      "40.84916900104506\n",
      "-73.86835600032798\n",
      "<class 'float'>\n",
      "<class 'float'>\n"
     ]
    }
   ],
   "source": [
    "#checking that the latitude and longtiude arrays contain points that look like integers\n",
    "print(latitude[0])\n",
    "print(longitude[0])\n",
    "\n",
    "#check that the latitude and longitude arrays contains integers\n",
    "print(type(latitude[0]))\n",
    "print(type(longitude[0]))"
   ]
  },
  {
   "cell_type": "markdown",
   "metadata": {},
   "source": [
    "# 3. Alternate Solution: Slicing Arrays Using Regular Expressions\n",
    "\n",
    "The following is an alternative way to slicing values in an array. \n",
    "\n",
    "A regular expressions is a concept in computer science centered around the theory that charcters can be used in search patterns. Regular expressions can be used to find and replace values in strings. In order to work with regular expressions in Python you have to import the regular expressions module.\n",
    "\n",
    "In our case we can use regular expressiosn to search each string in the points array for a space character. The notation \"re.split( )+\" searches for a space character in a string and then creates an array containing an index for each string between each space character. "
   ]
  },
  {
   "cell_type": "markdown",
   "metadata": {},
   "source": [
    "The following cell is an example of how to use regular expressions to slice a string with the format 'longitude latitude'."
   ]
  },
  {
   "cell_type": "code",
   "execution_count": 33,
   "metadata": {},
   "outputs": [
    {
     "data": {
      "text/plain": [
       "['40.84916900104506', ' ', '-73.86835600032798']"
      ]
     },
     "execution_count": 33,
     "metadata": {},
     "output_type": "execute_result"
    }
   ],
   "source": [
    "import re\n",
    "example_point = '40.84916900104506 -73.86835600032798'\n",
    "result = re.split(\"( )+\", example_point)\n",
    "result"
   ]
  },
  {
   "cell_type": "markdown",
   "metadata": {},
   "source": [
    "We can apply the approach above to every point in the points array using a combination of regular expressions and list comprehension."
   ]
  },
  {
   "cell_type": "code",
   "execution_count": 32,
   "metadata": {
    "collapsed": true
   },
   "outputs": [],
   "source": [
    "import re\n",
    "\n",
    "split_values = [re.split(\"( )+\", p) for p in points]\n",
    "lon = [float(values[0]) for values in split_values]\n",
    "lat = [float(values[2]) for values in split_values]"
   ]
  },
  {
   "cell_type": "markdown",
   "metadata": {},
   "source": [
    "## 4.  Adding the Newly Formatted Data back to Your Data Table"
   ]
  },
  {
   "cell_type": "code",
   "execution_count": 10,
   "metadata": {},
   "outputs": [
    {
     "data": {
      "text/html": [
       "<table border=\"1\" class=\"dataframe\">\n",
       "    <thead>\n",
       "        <tr>\n",
       "            <th>OBJECTID</th> <th>URL</th> <th>NAME</th> <th>the_geom</th> <th>LINE</th> <th>Lat</th> <th>Lon</th>\n",
       "        </tr>\n",
       "    </thead>\n",
       "    <tbody>\n",
       "        <tr>\n",
       "            <td>1734    </td> <td>http://web.mta.info/nyct/service/</td> <td>Birchall Ave & Sagamore St at NW corner</td> <td>POINT (-73.86835600032798 40.84916900104506) </td> <td>5-Feb</td> <td>40.8492</td> <td>-73.8684</td>\n",
       "        </tr>\n",
       "    </tbody>\n",
       "        <tr>\n",
       "            <td>1735    </td> <td>http://web.mta.info/nyct/service/</td> <td>Birchall Ave & Sagamore St at NE corner</td> <td>POINT (-73.86821300022677 40.84912800131844) </td> <td>5-Feb</td> <td>40.8491</td> <td>-73.8682</td>\n",
       "        </tr>\n",
       "    </tbody>\n",
       "        <tr>\n",
       "            <td>1736    </td> <td>http://web.mta.info/nyct/service/</td> <td>Morris Park Ave & 180th St at NW corner</td> <td>POINT (-73.87349900050798 40.84122300105249) </td> <td>5-Feb</td> <td>40.8412</td> <td>-73.8735</td>\n",
       "        </tr>\n",
       "    </tbody>\n",
       "        <tr>\n",
       "            <td>1737    </td> <td>http://web.mta.info/nyct/service/</td> <td>Morris Park Ave & 180th St at NW corner</td> <td>POINT (-73.8728919997833 40.84145300067447)  </td> <td>5-Feb</td> <td>40.8415</td> <td>-73.8729</td>\n",
       "        </tr>\n",
       "    </tbody>\n",
       "        <tr>\n",
       "            <td>1738    </td> <td>http://web.mta.info/nyct/service/</td> <td>Boston Rd & 178th St at SW corner      </td> <td>POINT (-73.87962300013866 40.84081500075867) </td> <td>5-Feb</td> <td>40.8408</td> <td>-73.8796</td>\n",
       "        </tr>\n",
       "    </tbody>\n",
       "        <tr>\n",
       "            <td>1739    </td> <td>http://web.mta.info/nyct/service/</td> <td>Boston Rd & E Tremont Ave at NW corner </td> <td>POINT (-73.88000500027815 40.840434000875874)</td> <td>5-Feb</td> <td>40.8404</td> <td>-73.88  </td>\n",
       "        </tr>\n",
       "    </tbody>\n",
       "        <tr>\n",
       "            <td>1740    </td> <td>http://web.mta.info/nyct/service/</td> <td>Boston Rd & E Tremont Ave at NE corner </td> <td>POINT (-73.87983300021861 40.84035400111976) </td> <td>5-Feb</td> <td>40.8404</td> <td>-73.8798</td>\n",
       "        </tr>\n",
       "    </tbody>\n",
       "        <tr>\n",
       "            <td>1741    </td> <td>http://web.mta.info/nyct/service/</td> <td>Boston Rd & 178th St at SE corner      </td> <td>POINT (-73.8795549998336 40.84063900116436)  </td> <td>5-Feb</td> <td>40.8406</td> <td>-73.8796</td>\n",
       "        </tr>\n",
       "    </tbody>\n",
       "        <tr>\n",
       "            <td>1742    </td> <td>http://web.mta.info/nyct/service/</td> <td>Boston Rd & 178th St at NW corner      </td> <td>POINT (-73.87939700013239 40.84107800066419) </td> <td>5-Feb</td> <td>40.8411</td> <td>-73.8794</td>\n",
       "        </tr>\n",
       "    </tbody>\n",
       "        <tr>\n",
       "            <td>1743    </td> <td>http://web.mta.info/nyct/service/</td> <td>Boston Rd & 174th St at SW corner      </td> <td>POINT (-73.88804799985908 40.83732500129732) </td> <td>5-Feb</td> <td>40.8373</td> <td>-73.888 </td>\n",
       "        </tr>\n",
       "    </tbody>\n",
       "</table>\n",
       "<p>... (1918 rows omitted)</p>"
      ],
      "text/plain": [
       "<IPython.core.display.HTML object>"
      ]
     },
     "metadata": {},
     "output_type": "display_data"
    }
   ],
   "source": [
    "subways = subways.with_column('Lat', latitude, 'Lon', longitude)\n",
    "subways.show(10)"
   ]
  },
  {
   "cell_type": "markdown",
   "metadata": {},
   "source": [
    "## 5. Converting the Table Back into a Data File"
   ]
  },
  {
   "cell_type": "code",
   "execution_count": 12,
   "metadata": {
    "collapsed": true
   },
   "outputs": [],
   "source": [
    "subways.to_csv('subways_export.csv') #table_name.to_csv('new_file_name.csv')"
   ]
  },
  {
   "attachments": {},
   "cell_type": "markdown",
   "metadata": {},
   "source": [
    "# Conclusion\n",
    "\n",
    "When you encounter data that is not stored in the format that you need it in don't panic because you can use methods such as string slicing, list comprehension, and type conversion to store the data in a way that you prefer!\n",
    "\n",
    "### Tips\n",
    "- try to write code in a very general way so that your program works for all your data points\n",
    "- look for patterns in your data entries that make it possible to break up your data in a consistent way\n",
    "- use lots of print statements to check that your output is what you expected\n",
    "- always check the type of the data you have and compare it to the type of data you want\n",
    "    - *note: even if a column looks like it contains numbers, each entry could be a string instead of an integer*\n",
    "    \n",
    "    \n",
    "### Whats Next?\n",
    "*link to my other guides*\n",
    "\n",
    "### What was I able to do after making data readable?\n",
    "\n",
    "Once I had seperate latitude and longitude integer values for each subway location I was able to make a heat map of each subway entrance in NYC. You can read more about this step here! *insert link*\n",
    "\n",
    "![heatmap](images/subway_heatmap.jpeg)"
   ]
  },
  {
   "cell_type": "code",
   "execution_count": null,
   "metadata": {
    "collapsed": true
   },
   "outputs": [],
   "source": []
  }
 ],
 "metadata": {
  "kernelspec": {
   "display_name": "Python 3",
   "language": "python",
   "name": "python3"
  },
  "language_info": {
   "codemirror_mode": {
    "name": "ipython",
    "version": 3
   },
   "file_extension": ".py",
   "mimetype": "text/x-python",
   "name": "python",
   "nbconvert_exporter": "python",
   "pygments_lexer": "ipython3",
   "version": "3.6.1"
  }
 },
 "nbformat": 4,
 "nbformat_minor": 2
}
